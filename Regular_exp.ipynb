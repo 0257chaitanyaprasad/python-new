{
  "nbformat": 4,
  "nbformat_minor": 0,
  "metadata": {
    "colab": {
      "name": "Regular exp.ipynb",
      "provenance": [],
      "collapsed_sections": [],
      "authorship_tag": "ABX9TyNkVH2gRXt3dMoWqnnBNLyq",
      "include_colab_link": true
    },
    "kernelspec": {
      "name": "python3",
      "display_name": "Python 3"
    },
    "language_info": {
      "name": "python"
    }
  },
  "cells": [
    {
      "cell_type": "markdown",
      "metadata": {
        "id": "view-in-github",
        "colab_type": "text"
      },
      "source": [
        "<a href=\"https://colab.research.google.com/github/0257chaitanyaprasad/python-new/blob/Module-5/Regular_exp.ipynb\" target=\"_parent\"><img src=\"https://colab.research.google.com/assets/colab-badge.svg\" alt=\"Open In Colab\"/></a>"
      ]
    },
    {
      "cell_type": "code",
      "execution_count": null,
      "metadata": {
        "colab": {
          "base_uri": "https://localhost:8080/"
        },
        "id": "NT1h8duIJV53",
        "outputId": "a0370a87-d8cf-48ee-d038-d4e32ec1b261"
      },
      "outputs": [
        {
          "output_type": "stream",
          "name": "stdout",
          "text": [
            "yes the word is matched\n"
          ]
        }
      ],
      "source": [
        "import re\n",
        "txt = \"Hii this is K.Chaitanya Prasad\"\n",
        "x = re.search(\"^Hii.*Prasad$\",txt)\n",
        "if x:\n",
        "  print(\"yes the word is matched\")\n",
        "else:\n",
        "  print(\"Sorry we didn't found\")"
      ]
    },
    {
      "cell_type": "code",
      "source": [
        "import re\n",
        "txt = 'hello this is chaitu'\n",
        "a = re.findall(\"he.*o\",txt)\n",
        "print(a)\n",
        "if a:\n",
        "  print(\"found\")\n",
        "else:\n",
        "  print(\"sorry not found\")"
      ],
      "metadata": {
        "colab": {
          "base_uri": "https://localhost:8080/"
        },
        "id": "dMXnGRSVLVcF",
        "outputId": "620cbd28-abe9-408e-9353-62897ca51425"
      },
      "execution_count": null,
      "outputs": [
        {
          "output_type": "stream",
          "name": "stdout",
          "text": [
            "['hello']\n",
            "found\n"
          ]
        }
      ]
    },
    {
      "cell_type": "code",
      "source": [
        "import re\n",
        "txt = \"The Indian cricket team won the 2011 Cricket World Cup under his captainship. His Test cricket and One Day International records are the best of all Indian captains to date. He took over the ODI captaincy from Rahul Dravid in 2007 and led the team to its first ever inter-country ODI series wins in Sri Lanka and New Zealand. Dhoni also holds the post of Vice-President of India Cements Ltd. after resigning from Air India. India Cements is the owner of the Indian Premier League team Chennai Super Kings, and Dhoni has been its captain since the first edition of IPL\"\n",
        "a = re.findall('dhoni',txt)\n",
        "print(a)"
      ],
      "metadata": {
        "colab": {
          "base_uri": "https://localhost:8080/"
        },
        "id": "l_Smm-XpL072",
        "outputId": "49049079-8ce7-402c-d264-a30956418595"
      },
      "execution_count": null,
      "outputs": [
        {
          "output_type": "stream",
          "name": "stdout",
          "text": [
            "[]\n"
          ]
        }
      ]
    },
    {
      "cell_type": "code",
      "source": [
        "# Using [ ] prints small charecters\n",
        "import re\n",
        "txt = 'A legend of world cricket, MS Dhoni is the only international captain to win all three ICC global trophies the World T20 in 2007, the Cricket World Cup (50-over) in 2011 and the Champions Trophy in 2013. His record as all-time skipper of the Chennai Super Kings in IPL is equally stunning four crowns, nine finals, playoffs in every season except one.'\n",
        "a = re.findall(\"[a-e]\",txt)\n",
        "print(a)"
      ],
      "metadata": {
        "colab": {
          "base_uri": "https://localhost:8080/"
        },
        "id": "k0_bJw1qNOwb",
        "outputId": "5375739d-6100-45df-b12e-a229bcf6e2b6"
      },
      "execution_count": null,
      "outputs": [
        {
          "output_type": "stream",
          "name": "stdout",
          "text": [
            "['e', 'e', 'd', 'd', 'c', 'c', 'e', 'e', 'e', 'a', 'a', 'c', 'a', 'a', 'a', 'e', 'e', 'b', 'a', 'e', 'e', 'd', 'e', 'c', 'e', 'd', 'e', 'a', 'd', 'e', 'a', 'e', 'c', 'd', 'a', 'a', 'e', 'e', 'e', 'e', 'a', 'e', 'e', 'a', 'c', 'e', 'a', 'a', 'e', 'e', 'e', 'a', 'e', 'c', 'e', 'e']\n"
          ]
        }
      ]
    },
    {
      "cell_type": "code",
      "source": [
        "# Using \\d prints digits\n",
        "import re\n",
        "txt = \"The wicketkeeper-batsman had a stellar international career from 2004 to 2019, where he amassed more than 17000 runs across three formats. It included 10773 runs in ODIs, where he averaged in excess of 50. The Super Kings captain has played 220 IPL matches, scoring 4746 runs including 23 half-centuries.\"\n",
        "a  = re.findall(\"\\d\",txt)\n",
        "print(a)"
      ],
      "metadata": {
        "colab": {
          "base_uri": "https://localhost:8080/"
        },
        "id": "gGfAtzPxOQTE",
        "outputId": "1c7fbbe6-aa0b-4236-fac7-1dc3243e5aeb"
      },
      "execution_count": null,
      "outputs": [
        {
          "output_type": "stream",
          "name": "stdout",
          "text": [
            "['2', '0', '0', '4', '2', '0', '1', '9', '1', '7', '0', '0', '0', '1', '0', '7', '7', '3', '5', '0', '2', '2', '0', '4', '7', '4', '6', '2', '3']\n"
          ]
        }
      ]
    },
    {
      "cell_type": "code",
      "source": [
        "# Using '.' which starts with the given charecter and ends with the given charecter\n",
        "import re\n",
        "txt = \"A legend of world cricket, MS Dhoni is the only international captain to win all three ICC global trophies the World T20 in 2007, the Cricket World Cup (50-over) in 2011 and the Champions Trophy in 2013. His record as all-time skipper of the Chennai Super Kings in IPL is equally stunning four crowns, nine finals, playoffs in every season except one. \"\n",
        "a  = re.findall(\"l....d\",txt)\n",
        "x = re.search(\"l....d\",txt)\n",
        "print(a)\n",
        "print(x)"
      ],
      "metadata": {
        "colab": {
          "base_uri": "https://localhost:8080/"
        },
        "id": "3Fur_qUGOn9s",
        "outputId": "742a84f9-8152-4b6e-dbb1-eba5366ae9e9"
      },
      "execution_count": null,
      "outputs": [
        {
          "output_type": "stream",
          "name": "stdout",
          "text": [
            "['legend']\n",
            "<re.Match object; span=(2, 8), match='legend'>\n"
          ]
        }
      ]
    },
    {
      "cell_type": "code",
      "source": [
        "# Using $ to find weather it ends with the given charecter\n",
        "import re\n",
        "txt = \"A legend of world cricket, MS Dhoni is the only international captain to win all three ICC global trophies the World T20 in 2007, the Cricket World Cup (50-over) in 2011 and the Champions Trophy in 2013. His record as all-time skipper of the Chennai Super Kings in IPL is equally stunning four crowns, nine finals, playoffs in every season except one. \"\n",
        "a  = re.findall(\"one. $\",txt)\n",
        "print(a)"
      ],
      "metadata": {
        "colab": {
          "base_uri": "https://localhost:8080/"
        },
        "id": "047kpPY0PloW",
        "outputId": "14554029-09f5-4e46-9933-d5814abbef7a"
      },
      "execution_count": null,
      "outputs": [
        {
          "output_type": "stream",
          "name": "stdout",
          "text": [
            "['chaitu']\n"
          ]
        }
      ]
    },
    {
      "cell_type": "code",
      "source": [
        "# Using ^ to find weather the statement starts with the given charecter\n",
        "import re\n",
        "txt = \"A legend of world cricket, MS Dhoni is the only international captain to win all three ICC global trophies the World T20 in 2007, the Cricket World Cup (50-over) in 2011 and the Champions Trophy in 2013. His record as all-time skipper of the Chennai Super Kings in IPL is equally stunning four crowns, nine finals, playoffs in every season except one. \"\n",
        "a  = re.findall(\"^A\",txt)\n",
        "print(a)"
      ],
      "metadata": {
        "colab": {
          "base_uri": "https://localhost:8080/"
        },
        "id": "zq1BOhILPy0h",
        "outputId": "e7b15a26-7f06-42ff-ce24-b388f56fc85c"
      },
      "execution_count": null,
      "outputs": [
        {
          "output_type": "stream",
          "name": "stdout",
          "text": [
            "['A']\n"
          ]
        }
      ]
    },
    {
      "cell_type": "code",
      "source": [
        "# Using .* to Search for a sequence that starts with \"he\", followed by 0 or more  (any) characters, and an \"o\":\n",
        "import re \n",
        "txt = 'A legend of world cricket, MS Dhoni is the only international captain to win all three ICC global trophies the World T20 in 2007, the Cricket World Cup (50-over) in 2011 and the Champions Trophy in 2013. His record as all-time skipper of the Chennai Super Kings in IPL is equally stunning four crowns, nine finals, playoffs in every season except one.'\n",
        "a = re.findall(\"A.*i\",txt)\n",
        "print(a)"
      ],
      "metadata": {
        "colab": {
          "base_uri": "https://localhost:8080/"
        },
        "id": "kHE-m4kQP_iK",
        "outputId": "f1560f53-1ab8-4fe6-d610-b60b7a508948"
      },
      "execution_count": null,
      "outputs": [
        {
          "output_type": "stream",
          "name": "stdout",
          "text": [
            "['A legend of world cricket, MS Dhoni is the only international captain to win all three ICC global trophies the World T20 in 2007, the Cricket World Cup (50-over) in 2011 and the Champions Trophy in 2013. His record as all-time skipper of the Chennai Super Kings in IPL is equally stunning four crowns, nine finals, playoffs i']\n"
          ]
        }
      ]
    },
    {
      "cell_type": "code",
      "source": [
        "# using .+ to Search for a sequence that starts with \"he\", followed by 1 or more  (any) characters, and an \"o\":\n",
        "import re\n",
        "txt = 'A legend of world cricket, MS Dhoni is the only international captain to win all three ICC global trophies the World T20 in 2007, the Cricket World Cup (50-over) in 2011 and the Champions Trophy in 2013. His record as all-time skipper of the Chennai Super Kings in IPL is equally stunning four crowns, nine finals, playoffs in every season except one.'\n",
        "a = re.findall(\"M.+i\",txt)\n",
        "print(a)"
      ],
      "metadata": {
        "id": "YK4jW-NjWAwG",
        "colab": {
          "base_uri": "https://localhost:8080/"
        },
        "outputId": "1ab61940-c1d2-48b9-c527-a7bf7e18a192"
      },
      "execution_count": null,
      "outputs": [
        {
          "output_type": "stream",
          "name": "stdout",
          "text": [
            "['MS Dhoni is the only international captain to win all three ICC global trophies the World T20 in 2007, the Cricket World Cup (50-over) in 2011 and the Champions Trophy in 2013. His record as all-time skipper of the Chennai Super Kings in IPL is equally stunning four crowns, nine finals, playoffs i']\n"
          ]
        }
      ]
    },
    {
      "cell_type": "code",
      "source": [
        "# using .? to Search for a sequence that starts with \"he\", followed by 0 or 1  (any) character, and an \"o\":\n",
        "import re\n",
        "txt = 'A legend of world cricket, MS Dhoni is the only international captain to win all three ICC global trophies the World T20 in 2007, the Cricket World Cup (50-over) in 2011 and the Champions Trophy in 2013. His record as all-time skipper of the Chennai Super Kings in IPL is equally stunning four crowns, nine finals, playoffs in every season except one.'\n",
        "a = re.findall(\"M.?i\",txt)\n",
        "print(a)"
      ],
      "metadata": {
        "id": "zYOm8-nW2JQx",
        "colab": {
          "base_uri": "https://localhost:8080/"
        },
        "outputId": "123c7cfe-fb94-4bf0-fb90-bd17577a32f6"
      },
      "execution_count": null,
      "outputs": [
        {
          "output_type": "stream",
          "name": "stdout",
          "text": [
            "[]\n"
          ]
        }
      ]
    },
    {
      "cell_type": "code",
      "source": [
        "# Using {} to Search for a sequence that starts with given charecter , followed excactly mentioned (any) characters, and an given charecter:\n",
        "import re\n",
        "txt = 'A legend of world cricket, MS Dhoni is the only international captain to win all three ICC global trophies the World T20 in 2007, the Cricket World Cup (50-over) in 2011 and the Champions Trophy in 2013. His record as all-time skipper of the Chennai Super Kings in IPL is equally stunning four crowns, nine finals, playoffs in every season except one.'\n",
        "a = re.findall(\"M.{6}i\",txt)\n",
        "print(a)"
      ],
      "metadata": {
        "colab": {
          "base_uri": "https://localhost:8080/"
        },
        "id": "8KSYk9SV3EJ6",
        "outputId": "ae7f9adc-50e2-4797-e0c8-3b1ca4303a85"
      },
      "execution_count": null,
      "outputs": [
        {
          "output_type": "stream",
          "name": "stdout",
          "text": [
            "['MS Dhoni']\n"
          ]
        }
      ]
    },
    {
      "cell_type": "code",
      "source": [
        "# using | to Check if the string either contains or not\n",
        "import re\n",
        "txt = 'A legend of world cricket, MS Dhoni is the only international captain to win all three ICC global trophies the World T20 in 2007, the Cricket World Cup (50-over) in 2011 and the Champions Trophy in 2013. His record as all-time skipper of the Chennai Super Kings in IPL is equally stunning four crowns, nine finals, playoffs in every season except one.'\n",
        "a = re.findall(\"Dhoni|Kohli\",txt)\n",
        "print(a)\n",
        "if a:\n",
        "  print(\"yes Dhoni contain in txt\")\n",
        "else:\n",
        "  print(\"no Dhoni is not in txt\")"
      ],
      "metadata": {
        "colab": {
          "base_uri": "https://localhost:8080/"
        },
        "id": "5Tu65_Dk3yS7",
        "outputId": "c64e4bc8-429d-4dbf-997f-3dbc620f31d5"
      },
      "execution_count": null,
      "outputs": [
        {
          "output_type": "stream",
          "name": "stdout",
          "text": [
            "['Dhoni']\n",
            "yes Dhoni contain in txt\n"
          ]
        }
      ]
    },
    {
      "cell_type": "code",
      "source": [
        "# Using \\A to Check if the string starts with the given charecter\n",
        "import re\n",
        "txt = 'A legend of world cricket, MS Dhoni is the only international captain to win all three ICC global trophies the World T20 in 2007, the Cricket World Cup (50-over) in 2011 and the Champions Trophy in 2013. His record as all-time skipper of the Chennai Super Kings in IPL is equally stunning four crowns, nine finals, playoffs in every season except one.'\n",
        "a = re.findall(\"\\AA \",txt)\n",
        "print(a)\n",
        "if a:\n",
        "  print(\"yes txt starts with A\")\n",
        "else:\n",
        "  print(\"no txt not starts with A\")"
      ],
      "metadata": {
        "colab": {
          "base_uri": "https://localhost:8080/"
        },
        "id": "G74PGVBk5NOy",
        "outputId": "34749a57-dda3-423f-b9b0-413833214982"
      },
      "execution_count": null,
      "outputs": [
        {
          "output_type": "stream",
          "name": "stdout",
          "text": [
            "['A ']\n",
            "yes txt starts with A\n"
          ]
        }
      ]
    },
    {
      "cell_type": "code",
      "source": [
        "# Using \\b to check weather the word contains the given charecter or not\n",
        "import re\n",
        "txt = 'A legend of world cricket, MS Dhoni is the only international captain to win all three ICC global trophies the World T20 in 2007, the Cricket World Cup (50-over) in 2011 and the Champions Trophy in 2013. His record as all-time skipper of the Chennai Super Kings in IPL is equally stunning four crowns, nine finals, playoffs in every season except one.'\n",
        "a = re.findall(\"D\\bhoni\",txt)\n",
        "print(a)\n",
        "if a:\n",
        "  print(\"yes honi is in the word\")\n",
        "else:\n",
        "  print(\"no honi is not in the word\")"
      ],
      "metadata": {
        "colab": {
          "base_uri": "https://localhost:8080/"
        },
        "id": "F1irLAB06EfR",
        "outputId": "da55f78a-7f7d-4688-aa67-374d352b44b1"
      },
      "execution_count": null,
      "outputs": [
        {
          "output_type": "stream",
          "name": "stdout",
          "text": [
            "[]\n",
            "no honi is not in the word\n"
          ]
        }
      ]
    },
    {
      "cell_type": "code",
      "source": [
        "import re\n",
        "txt = \"The rain in Spain\"\n",
        "x = re.findall(r\"ain\\b\", txt)\n",
        "print(x)\n",
        "if x:\n",
        "  print(\"Yes, there is at least one match!\")\n",
        "else:\n",
        "  print(\"No match\")"
      ],
      "metadata": {
        "colab": {
          "base_uri": "https://localhost:8080/"
        },
        "id": "RWmIucXT67MR",
        "outputId": "12cc5dc3-6984-47fe-9a5d-73c0c068a80a"
      },
      "execution_count": null,
      "outputs": [
        {
          "output_type": "stream",
          "name": "stdout",
          "text": [
            "['ain', 'ain']\n",
            "Yes, there is at least one match!\n"
          ]
        }
      ]
    },
    {
      "cell_type": "code",
      "source": [
        ""
      ],
      "metadata": {
        "id": "fxR4P_lm78nh"
      },
      "execution_count": null,
      "outputs": []
    }
  ]
}