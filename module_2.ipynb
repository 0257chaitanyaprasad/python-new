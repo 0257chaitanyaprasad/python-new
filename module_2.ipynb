{
  "nbformat": 4,
  "nbformat_minor": 0,
  "metadata": {
    "colab": {
      "name": "module 2.ipynb",
      "provenance": [],
      "collapsed_sections": [],
      "authorship_tag": "ABX9TyNKJZO/A3x7xT3cVpn2G4k9",
      "include_colab_link": true
    },
    "kernelspec": {
      "name": "python3",
      "display_name": "Python 3"
    },
    "language_info": {
      "name": "python"
    }
  },
  "cells": [
    {
      "cell_type": "markdown",
      "metadata": {
        "id": "view-in-github",
        "colab_type": "text"
      },
      "source": [
        "<a href=\"https://colab.research.google.com/github/0257chaitanyaprasad/python-new/blob/module-2/module_2.ipynb\" target=\"_parent\"><img src=\"https://colab.research.google.com/assets/colab-badge.svg\" alt=\"Open In Colab\"/></a>"
      ]
    },
    {
      "cell_type": "code",
      "execution_count": null,
      "metadata": {
        "colab": {
          "base_uri": "https://localhost:8080/"
        },
        "id": "Trubx11bLra-",
        "outputId": "41c7b9b1-56a2-4ce8-bd69-898b4c339a96"
      },
      "outputs": [
        {
          "output_type": "stream",
          "name": "stdout",
          "text": [
            "enter the value5\n",
            "enter the value6\n",
            "b is greater\n"
          ]
        }
      ],
      "source": [
        "## Greatest of two numbers\n",
        "a=int(input(\"enter the value\"))\n",
        "b=int(input(\"enter the value\"))\n",
        "if a>b:\n",
        "  print(\"a greater than b\")\n",
        "else:\n",
        "  print(\"b is greater\")"
      ]
    },
    {
      "cell_type": "code",
      "source": [
        "## Greatest of three numbers\n",
        "a=int(input(\"enter the value\"))\n",
        "b=int(input(\"enter the value\"))\n",
        "c=int(input(\"enter the value\"))\n",
        "if a>b and a>c:\n",
        "  print(\"a is greater\")\n",
        "elif b>c and b>a:\n",
        "  print(\"b is greater\")\n",
        "else:\n",
        "  print(\"c is greater\")"
      ],
      "metadata": {
        "colab": {
          "base_uri": "https://localhost:8080/"
        },
        "id": "_1T4FFw8PZdo",
        "outputId": "b72b6dfb-cfa7-40e2-f636-9b7179f92b4d"
      },
      "execution_count": null,
      "outputs": [
        {
          "output_type": "stream",
          "name": "stdout",
          "text": [
            "enter the value5\n",
            "enter the value12\n",
            "enter the value62\n",
            "c is greater\n"
          ]
        }
      ]
    },
    {
      "cell_type": "code",
      "source": [
        "## Checking the type of triangles\n",
        "a=int(input(\"enter the value\"))\n",
        "b=int(input(\"enter the value\"))\n",
        "c=int(input(\"enter the value\"))\n",
        "if a==b==c:\n",
        "  print(\"equilateral triangle\")\n",
        "elif a==b!=c or a!=b==c or a!=c==b:\n",
        "  print(\"isoscales triangle\")\n",
        "else:\n",
        "  print(\"scalen triangle\")\n"
      ],
      "metadata": {
        "colab": {
          "base_uri": "https://localhost:8080/"
        },
        "id": "eZ9eFKPqQEJv",
        "outputId": "5ebb3a7d-4fd0-492b-bf80-703a38cdfc37"
      },
      "execution_count": null,
      "outputs": [
        {
          "output_type": "stream",
          "name": "stdout",
          "text": [
            "enter the value5\n",
            "enter the value6\n",
            "enter the value4\n",
            "scalen triangle\n"
          ]
        }
      ]
    },
    {
      "cell_type": "code",
      "source": [
        "## Sum of first n naturan numbers\n",
        "n=int(input(\"enter the value\"))\n",
        "i=1\n",
        "sum=0\n",
        "while i<=n:\n",
        "  sum=sum+i\n",
        "  i=i+1\n",
        "print(sum)"
      ],
      "metadata": {
        "colab": {
          "base_uri": "https://localhost:8080/"
        },
        "id": "HZZWXVlRRhUt",
        "outputId": "73f727b3-41b7-4c18-f21e-a37a709a7d13"
      },
      "execution_count": null,
      "outputs": [
        {
          "output_type": "stream",
          "name": "stdout",
          "text": [
            "enter the value15\n",
            "120\n"
          ]
        }
      ]
    },
    {
      "cell_type": "code",
      "source": [
        "## Checking leap year or not\n",
        "a=int(input(\"enter the year\"))\n",
        "if a%400==0 and a%100==0:\n",
        "  print(\"leap year\")\n",
        "elif a%4==0 and a%100!=0:\n",
        "  print(\"leap year\")\n",
        "else:\n",
        "  print(\"not a leap year\")"
      ],
      "metadata": {
        "colab": {
          "base_uri": "https://localhost:8080/"
        },
        "id": "ddYrXfUISc3P",
        "outputId": "3abbb240-eeaa-4c7e-ae5d-c1e7e6008042"
      },
      "execution_count": null,
      "outputs": [
        {
          "output_type": "stream",
          "name": "stdout",
          "text": [
            "enter the year1900\n",
            "not a leap year\n"
          ]
        }
      ]
    },
    {
      "cell_type": "code",
      "source": [
        "## Divisible by 5 and 11\n",
        "n=int(input(\"enter the value\"))\n",
        "if n%5==0 and n%11==0:\n",
        "    print(\"divisible by 5 and 11\")\n",
        "elif n%5==0 and n%11!=0:\n",
        "    print(\"divisible by 5 but not by 11\")\n",
        "elif n%5!=0 and n%11==0:\n",
        "    print(\"divisible ny 11 but not by 5\")\n",
        "else:\n",
        "    print(\"not divisible by 5 and 11\")"
      ],
      "metadata": {
        "colab": {
          "base_uri": "https://localhost:8080/"
        },
        "id": "YUPRVnUSUWZO",
        "outputId": "b4f61b09-199d-4f16-c346-2a1ee185a312"
      },
      "execution_count": null,
      "outputs": [
        {
          "output_type": "stream",
          "name": "stdout",
          "text": [
            "enter the value55\n",
            "divisible by 5 and 11\n"
          ]
        }
      ]
    },
    {
      "cell_type": "code",
      "source": [
        "## Roots of quadratic equation\n",
        "import cmath\n",
        "a = 1\n",
        "b = 5\n",
        "c = 6\n",
        "d = (b**2) - (4*a*c)\n",
        "sol1 = (-b-cmath.sqrt(d))/(2*a)\n",
        "sol2 = (-b+cmath.sqrt(d))/(2*a)\n",
        "\n",
        "print('The solution are {0} and {1}'.format(sol1,sol2))\n"
      ],
      "metadata": {
        "colab": {
          "base_uri": "https://localhost:8080/"
        },
        "id": "VRsn2Ks9Viwt",
        "outputId": "2cc8dd8d-4b66-417d-ee6a-49b264702977"
      },
      "execution_count": null,
      "outputs": [
        {
          "output_type": "stream",
          "name": "stdout",
          "text": [
            "The solution are (-3+0j) and (-2+0j)\n"
          ]
        }
      ]
    },
    {
      "cell_type": "code",
      "source": [
        "## Factorial of a number\n",
        "n=int(input(\"enter the value\"))\n",
        "factorial=1\n",
        "if n<0:\n",
        "   print(\"factorial does not exist for negative numbers\")\n",
        "elif n==0:\n",
        "   print(\"factorial is 1\")\n",
        "else:\n",
        "   for i in range(1,n+1):\n",
        "       factorial = factorial*i\n",
        "   print(\"The factorial of\",n,\"is\",factorial)"
      ],
      "metadata": {
        "colab": {
          "base_uri": "https://localhost:8080/"
        },
        "id": "z0kN8pPkSwJ2",
        "outputId": "84cc8ce5-c351-46f9-9e55-5dfba475e2b5"
      },
      "execution_count": null,
      "outputs": [
        {
          "output_type": "stream",
          "name": "stdout",
          "text": [
            "enter the value10\n",
            "The factorial of 10 is 3628800\n"
          ]
        }
      ]
    },
    {
      "cell_type": "code",
      "source": [
        "## Palindrome or not\n",
        "n=int(input(\"Enter number:\"))\n",
        "temp=n\n",
        "rev=0\n",
        "while(n>0):\n",
        "    rem=n%10\n",
        "    rev=rev*10+rem\n",
        "    n=n//10\n",
        "if(temp==rev):\n",
        "    print(\"The number is a palindrome\")\n",
        "else:\n",
        "    print(\"The number isn't a palindrome\")"
      ],
      "metadata": {
        "colab": {
          "base_uri": "https://localhost:8080/"
        },
        "id": "hfGC-lB-UGYZ",
        "outputId": "4ed5b0d0-b5ee-45c6-a146-1a917ccd467c"
      },
      "execution_count": null,
      "outputs": [
        {
          "output_type": "stream",
          "name": "stdout",
          "text": [
            "Enter number:1001\n",
            "The number is a palindrome\n"
          ]
        }
      ]
    },
    {
      "cell_type": "code",
      "source": [
        "## Perfect number or not\n",
        "n=int(input(\"enter the number\"))\n",
        "sum=0\n",
        "for i in range(1,n):\n",
        "  if n%i==0:\n",
        "    sum=sum+i\n",
        "if sum==n:\n",
        "  print(\"perfect number\")\n",
        "else:\n",
        "  print(\"not perfect number\")"
      ],
      "metadata": {
        "colab": {
          "base_uri": "https://localhost:8080/"
        },
        "id": "tdlerieAUkbR",
        "outputId": "2c6ca85e-bc77-4db4-ac99-ef1063462d4b"
      },
      "execution_count": null,
      "outputs": [
        {
          "output_type": "stream",
          "name": "stdout",
          "text": [
            "enter the number6\n",
            "perfect number\n"
          ]
        }
      ]
    },
    {
      "cell_type": "code",
      "source": [
        "## Decimal to binary\n",
        "decimal = int(input(\"Enter a decimal number\"))\n",
        "binary = 0\n",
        "ctr = 0\n",
        "temp = decimal \n",
        "while(temp > 0):\n",
        "    binary = ((temp%2)*(10**ctr)) + binary\n",
        "    temp = int(temp/2)\n",
        "    ctr += 1      \n",
        "print(\"Binary of {x} is: {y}\".format(x=decimal,y=binary))"
      ],
      "metadata": {
        "colab": {
          "base_uri": "https://localhost:8080/"
        },
        "id": "NPCGKrGSU1N7",
        "outputId": "fa971465-fdca-4a2e-88da-0a69c06e020e"
      },
      "execution_count": null,
      "outputs": [
        {
          "output_type": "stream",
          "name": "stdout",
          "text": [
            "Enter a decimal number58\n",
            "Binary of 58 is: 111010\n"
          ]
        }
      ]
    }
  ]
}