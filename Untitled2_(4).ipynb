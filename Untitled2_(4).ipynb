{
  "cells": [
    {
      "cell_type": "markdown",
      "metadata": {
        "id": "view-in-github",
        "colab_type": "text"
      },
      "source": [
        "<a href=\"https://colab.research.google.com/github/0257chaitanyaprasad/python-new/blob/module-3/Untitled2_(4).ipynb\" target=\"_parent\"><img src=\"https://colab.research.google.com/assets/colab-badge.svg\" alt=\"Open In Colab\"/></a>"
      ]
    },
    {
      "cell_type": "code",
      "execution_count": null,
      "id": "13e55d2e",
      "metadata": {
        "id": "13e55d2e",
        "outputId": "393eed28-9e20-4db6-aca8-550bf4f9e1c7"
      },
      "outputs": [
        {
          "name": "stdout",
          "output_type": "stream",
          "text": [
            "   Sno     Name  Marks\n",
            "0    1   Chaitu     93\n",
            "1    2  aravind     90\n",
            "2    3    Suraj     97\n",
            "3    4    Kiran     98\n"
          ]
        }
      ],
      "source": [
        "## Printing a CSV file\n",
        "import pandas as pd\n",
        "\n",
        "df = pd.read_csv('C:\\\\Users\\ckund\\Downloads\\C Notes\\sample.csv')\n",
        "\n",
        "print(df.to_string()) \n"
      ]
    },
    {
      "cell_type": "code",
      "execution_count": null,
      "id": "a8943ed0",
      "metadata": {
        "id": "a8943ed0",
        "outputId": "40847f95-14b2-4595-887f-4798b8442091"
      },
      "outputs": [
        {
          "name": "stdout",
          "output_type": "stream",
          "text": [
            "     session  number of kgs\n",
            "0    morning             25\n",
            "1  afternoon             30\n",
            "2      night             45\n"
          ]
        }
      ],
      "source": [
        "import pandas\n",
        "mydataset = {'session': [\"morning\", \"afternoon\", \"night\"],'number of kgs': [25,30,45]}\n",
        "myvar = pandas.DataFrame(mydataset)\n",
        "print(myvar)"
      ]
    },
    {
      "cell_type": "code",
      "execution_count": null,
      "id": "a43c50d5",
      "metadata": {
        "id": "a43c50d5",
        "outputId": "73fc4890-7d69-4e43-ac7d-be2930fc08f8"
      },
      "outputs": [
        {
          "name": "stdout",
          "output_type": "stream",
          "text": [
            "1.3.4\n"
          ]
        }
      ],
      "source": [
        "import pandas as pd\n",
        "print(pd.__version__)"
      ]
    },
    {
      "cell_type": "code",
      "execution_count": null,
      "id": "676792f7",
      "metadata": {
        "id": "676792f7",
        "outputId": "dddacbc5-2226-438b-f2a0-ee609698f732"
      },
      "outputs": [
        {
          "name": "stdout",
          "output_type": "stream",
          "text": [
            "0     2.00\n",
            "1    85.45\n",
            "dtype: float64\n"
          ]
        }
      ],
      "source": [
        "import pandas as pd\n",
        "a = [2,85.45]\n",
        "b = pd.Series(a)\n",
        "print(b)"
      ]
    },
    {
      "cell_type": "code",
      "execution_count": null,
      "id": "2bd3d462",
      "metadata": {
        "id": "2bd3d462",
        "outputId": "a37da35d-89e2-4205-b354-54c44c425424"
      },
      "outputs": [
        {
          "name": "stdout",
          "output_type": "stream",
          "text": [
            "2.0\n"
          ]
        }
      ],
      "source": [
        "print(b[0])"
      ]
    },
    {
      "cell_type": "code",
      "execution_count": null,
      "id": "0aa82a49",
      "metadata": {
        "id": "0aa82a49",
        "outputId": "92cb7878-89e4-4165-fcb6-836334c54ec2"
      },
      "outputs": [
        {
          "name": "stdout",
          "output_type": "stream",
          "text": [
            "1      chaitu\n",
            "2     aravind\n",
            "3    bhagyesh\n",
            "dtype: object\n"
          ]
        }
      ],
      "source": [
        "import pandas as pd\n",
        "a = ['chaitu','aravind','bhagyesh']\n",
        "b = pd.Series(a, index = ['1','2','3'])\n",
        "print(b)"
      ]
    },
    {
      "cell_type": "code",
      "execution_count": null,
      "id": "4577efa9",
      "metadata": {
        "id": "4577efa9",
        "outputId": "f5d06806-1f08-4634-bb8a-bbd9f2f91560"
      },
      "outputs": [
        {
          "name": "stdout",
          "output_type": "stream",
          "text": [
            "aravind\n"
          ]
        }
      ],
      "source": [
        "print(b[\"2\"])"
      ]
    },
    {
      "cell_type": "code",
      "execution_count": null,
      "id": "4d4f84f0",
      "metadata": {
        "id": "4d4f84f0",
        "outputId": "1261dbce-a16e-46bc-c883-6fb121a7790d"
      },
      "outputs": [
        {
          "name": "stdout",
          "output_type": "stream",
          "text": [
            "morning      35\n",
            "afternoon    45\n",
            "night        55\n",
            "dtype: object\n"
          ]
        }
      ],
      "source": [
        "import pandas as pd\n",
        "a = {'morning':'35', 'afternoon':'45','night':'55'}\n",
        "print(pd.Series(a))"
      ]
    },
    {
      "cell_type": "code",
      "execution_count": null,
      "id": "51d40f54",
      "metadata": {
        "id": "51d40f54",
        "outputId": "2a38f50d-76bc-4888-d1ec-eb9eaff859c4"
      },
      "outputs": [
        {
          "name": "stdout",
          "output_type": "stream",
          "text": [
            "<bound method DataFrame.to_string of    Sno     Name  Marks\n",
            "0    1   Chaitu   93.0\n",
            "1    2  aravind   90.0\n",
            "2    3    Suraj   97.0\n",
            "3    4    Kiran   98.0>\n"
          ]
        }
      ],
      "source": [
        "import pandas as pd\n",
        "df = pd.read_csv('C:\\\\Users\\ckund\\OneDrive\\Desktop\\sample.csv')\n",
        "new_file = df.dropna()\n",
        "print(new_file.to_string)"
      ]
    },
    {
      "cell_type": "code",
      "execution_count": null,
      "id": "a6a2dd7b",
      "metadata": {
        "id": "a6a2dd7b",
        "outputId": "1a87e3f6-638c-475a-9357-b3fa3ac86655"
      },
      "outputs": [
        {
          "name": "stdout",
          "output_type": "stream",
          "text": [
            "   Sno      Name  Marks\n",
            "0    1    Chaitu   93.0\n",
            "1    2   Aravind   90.0\n",
            "2    3     Suraj   97.0\n",
            "3    4     Kiran   98.0\n",
            "4    5  Bhagyesh   95.0\n"
          ]
        }
      ],
      "source": [
        "import pandas as pd\n",
        "df = pd.read_csv('C:\\\\Users\\ckund\\OneDrive\\Desktop\\info.csv')\n",
        "df.fillna(95, inplace = True)\n",
        "print(df.to_string())"
      ]
    },
    {
      "cell_type": "code",
      "execution_count": null,
      "id": "dce91171",
      "metadata": {
        "id": "dce91171",
        "outputId": "c6541a11-3d7a-400b-e224-0277391e49a0"
      },
      "outputs": [
        {
          "name": "stdout",
          "output_type": "stream",
          "text": [
            "   Sno     Name  score\n",
            "0    1   Dhoni     100\n",
            "1    2   Rayudu     75\n",
            "2    3   Jadeja     98\n",
            "3    4   Conway     93\n",
            "4    5  Ruturaj    100\n"
          ]
        }
      ],
      "source": [
        "import pandas as pd\n",
        "df = pd.read_csv('C:\\\\Users\\ckund\\OneDrive\\Desktop\\CSK.csv')\n",
        "for x in df.index:\n",
        "  if df.loc[x, \"score\"] == 95:\n",
        "    df.loc[x, \"score\"] = 98\n",
        "print(df.to_string())"
      ]
    },
    {
      "cell_type": "code",
      "execution_count": null,
      "id": "4e8d17a2",
      "metadata": {
        "id": "4e8d17a2",
        "outputId": "171cb319-9a82-4885-8dba-9d200fbd469b"
      },
      "outputs": [
        {
          "name": "stdout",
          "output_type": "stream",
          "text": [
            "   SNO     Names        DOB\n",
            "0     1   Manasa 2003-10-10\n",
            "1     2   Chaitu 2004-05-17\n",
            "2     3  Aravind 2003-06-25\n"
          ]
        }
      ],
      "source": [
        "import pandas as pd\n",
        "df = pd.read_csv('C:\\\\Users\\ckund\\OneDrive\\Desktop\\dob.csv')\n",
        "df['DOB'] = pd.to_datetime(df['DOB'])\n",
        "print(df.to_string())"
      ]
    },
    {
      "cell_type": "code",
      "execution_count": null,
      "id": "086d1e02",
      "metadata": {
        "id": "086d1e02",
        "outputId": "6d30aeca-b4cc-443c-ecb8-3ba4506fc38b"
      },
      "outputs": [
        {
          "name": "stdout",
          "output_type": "stream",
          "text": [
            "    sno        Name  Age   Mobile No         Mail     Password\n",
            "0     1      Chaitu   18  8106940122  **@gitam.in   **********\n",
            "1     2     Aravind   19  7654286963  **@gitam.in     ********\n",
            "2     3    Bhagyesh   19  8479658997  **@gitam.in        *****\n",
            "3     4       Pavan   18  8456921775  **@gitam.in      *******\n",
            "4     5   Sai kiran   20  9345865744  **@gitam.in     ********\n",
            "5     6       Kiran   19  7658459658  **@gitam.in     ********\n",
            "6     7       Suraj   18  9548678954  **@gitam.in      *******\n",
            "7     8      Pranav   19  7895469542  **@gitam.in       ******\n",
            "8     9    Naga Sai   20  8899774455  **@gitam.in      *******\n",
            "9    10    Srikanth   19  7788990011  **@gitam.in     ********\n",
            "10   11       Subbu   20  9988776655  **@gitam.in     ********\n",
            "11   12      Harsha   20  9554864815  **@gitam.in     ********\n",
            "12   13  Bharathwaj   19  9785432158  **@gitam.in  ***********\n",
            "13   14      Nithin   19  7895525559  **@gitam.in      *******\n",
            "14   15     Karthik   18  7854695502  **@gitam.in     ********\n",
            "15   16       Bhanu   19  7894561256  **@gitam.in    *********\n",
            "16   17     Dhanush   19  8546297615  **@gitam.in     ********\n",
            "17   18        Yash   19  7849569314  **@gitam.in     ********\n",
            "18   19       Sunil   20  7858995995  **@gitam.in        *****\n",
            "19   20       Viswa   19  7889468125  **@gitam.in     ********\n",
            "20   21  Karthikeya   20  7899546895  **@gitam.in    *********\n"
          ]
        }
      ],
      "source": [
        "import pandas as pd\n",
        "a = pd.read_csv('C:\\\\Users\\ckund\\OneDrive\\Desktop\\Data.csv')\n",
        "b = pd.DataFrame(a)\n",
        "print(b)"
      ]
    },
    {
      "cell_type": "code",
      "execution_count": null,
      "id": "1cc56d13",
      "metadata": {
        "id": "1cc56d13",
        "outputId": "875c4033-bb03-4842-aede-e264f382838a"
      },
      "outputs": [
        {
          "data": {
            "text/html": [
              "<div>\n",
              "<style scoped>\n",
              "    .dataframe tbody tr th:only-of-type {\n",
              "        vertical-align: middle;\n",
              "    }\n",
              "\n",
              "    .dataframe tbody tr th {\n",
              "        vertical-align: top;\n",
              "    }\n",
              "\n",
              "    .dataframe thead th {\n",
              "        text-align: right;\n",
              "    }\n",
              "</style>\n",
              "<table border=\"1\" class=\"dataframe\">\n",
              "  <thead>\n",
              "    <tr style=\"text-align: right;\">\n",
              "      <th></th>\n",
              "      <th>Age</th>\n",
              "    </tr>\n",
              "  </thead>\n",
              "  <tbody>\n",
              "    <tr>\n",
              "      <th>min</th>\n",
              "      <td>18</td>\n",
              "    </tr>\n",
              "    <tr>\n",
              "      <th>max</th>\n",
              "      <td>20</td>\n",
              "    </tr>\n",
              "  </tbody>\n",
              "</table>\n",
              "</div>"
            ],
            "text/plain": [
              "     Age\n",
              "min   18\n",
              "max   20"
            ]
          },
          "execution_count": 4,
          "metadata": {},
          "output_type": "execute_result"
        }
      ],
      "source": [
        "import pandas as pd\n",
        "a = pd.read_csv('C:\\\\Users\\ckund\\OneDrive\\Desktop\\Data.csv')\n",
        "a[:10]\n",
        "a.aggregate({'Age':['min','max']})"
      ]
    },
    {
      "cell_type": "code",
      "execution_count": null,
      "id": "ee15a690",
      "metadata": {
        "id": "ee15a690",
        "outputId": "067fad7f-b38d-438e-84b3-b9903886400b"
      },
      "outputs": [
        {
          "data": {
            "text/html": [
              "<div>\n",
              "<style scoped>\n",
              "    .dataframe tbody tr th:only-of-type {\n",
              "        vertical-align: middle;\n",
              "    }\n",
              "\n",
              "    .dataframe tbody tr th {\n",
              "        vertical-align: top;\n",
              "    }\n",
              "\n",
              "    .dataframe thead th {\n",
              "        text-align: right;\n",
              "    }\n",
              "</style>\n",
              "<table border=\"1\" class=\"dataframe\">\n",
              "  <thead>\n",
              "    <tr style=\"text-align: right;\">\n",
              "      <th></th>\n",
              "      <th>Mobile No</th>\n",
              "    </tr>\n",
              "  </thead>\n",
              "  <tbody>\n",
              "    <tr>\n",
              "      <th>min</th>\n",
              "      <td>7654286963</td>\n",
              "    </tr>\n",
              "    <tr>\n",
              "      <th>max</th>\n",
              "      <td>9988776655</td>\n",
              "    </tr>\n",
              "  </tbody>\n",
              "</table>\n",
              "</div>"
            ],
            "text/plain": [
              "      Mobile No\n",
              "min  7654286963\n",
              "max  9988776655"
            ]
          },
          "execution_count": 5,
          "metadata": {},
          "output_type": "execute_result"
        }
      ],
      "source": [
        "import pandas as pd\n",
        "a = pd.read_csv('C:\\\\Users\\ckund\\OneDrive\\Desktop\\Data.csv')\n",
        "a[:10]\n",
        "a.aggregate({'Mobile No':['min','max']})"
      ]
    },
    {
      "cell_type": "code",
      "execution_count": null,
      "id": "ca5c192e",
      "metadata": {
        "id": "ca5c192e",
        "outputId": "fa3884c4-ba3a-49c7-ca1d-1c5a024f482b"
      },
      "outputs": [
        {
          "data": {
            "text/html": [
              "<div>\n",
              "<style scoped>\n",
              "    .dataframe tbody tr th:only-of-type {\n",
              "        vertical-align: middle;\n",
              "    }\n",
              "\n",
              "    .dataframe tbody tr th {\n",
              "        vertical-align: top;\n",
              "    }\n",
              "\n",
              "    .dataframe thead th {\n",
              "        text-align: right;\n",
              "    }\n",
              "</style>\n",
              "<table border=\"1\" class=\"dataframe\">\n",
              "  <thead>\n",
              "    <tr style=\"text-align: right;\">\n",
              "      <th></th>\n",
              "      <th>sno</th>\n",
              "      <th>Name</th>\n",
              "      <th>Age</th>\n",
              "      <th>Mobile No</th>\n",
              "      <th>Mail</th>\n",
              "      <th>Password</th>\n",
              "    </tr>\n",
              "  </thead>\n",
              "  <tbody>\n",
              "    <tr>\n",
              "      <th>0</th>\n",
              "      <td>1</td>\n",
              "      <td>Chaitu</td>\n",
              "      <td>18</td>\n",
              "      <td>8106940122</td>\n",
              "      <td>**@gitam.in</td>\n",
              "      <td>**********</td>\n",
              "    </tr>\n",
              "    <tr>\n",
              "      <th>1</th>\n",
              "      <td>2</td>\n",
              "      <td>Aravind</td>\n",
              "      <td>19</td>\n",
              "      <td>7654286963</td>\n",
              "      <td>**@gitam.in</td>\n",
              "      <td>********</td>\n",
              "    </tr>\n",
              "    <tr>\n",
              "      <th>2</th>\n",
              "      <td>3</td>\n",
              "      <td>Bhagyesh</td>\n",
              "      <td>19</td>\n",
              "      <td>8479658997</td>\n",
              "      <td>**@gitam.in</td>\n",
              "      <td>*****</td>\n",
              "    </tr>\n",
              "    <tr>\n",
              "      <th>3</th>\n",
              "      <td>4</td>\n",
              "      <td>Pavan</td>\n",
              "      <td>18</td>\n",
              "      <td>8456921775</td>\n",
              "      <td>**@gitam.in</td>\n",
              "      <td>*******</td>\n",
              "    </tr>\n",
              "    <tr>\n",
              "      <th>4</th>\n",
              "      <td>5</td>\n",
              "      <td>Sai kiran</td>\n",
              "      <td>20</td>\n",
              "      <td>9345865744</td>\n",
              "      <td>**@gitam.in</td>\n",
              "      <td>********</td>\n",
              "    </tr>\n",
              "    <tr>\n",
              "      <th>5</th>\n",
              "      <td>6</td>\n",
              "      <td>Kiran</td>\n",
              "      <td>19</td>\n",
              "      <td>7658459658</td>\n",
              "      <td>**@gitam.in</td>\n",
              "      <td>********</td>\n",
              "    </tr>\n",
              "    <tr>\n",
              "      <th>6</th>\n",
              "      <td>7</td>\n",
              "      <td>Suraj</td>\n",
              "      <td>18</td>\n",
              "      <td>9548678954</td>\n",
              "      <td>**@gitam.in</td>\n",
              "      <td>*******</td>\n",
              "    </tr>\n",
              "    <tr>\n",
              "      <th>7</th>\n",
              "      <td>8</td>\n",
              "      <td>Pranav</td>\n",
              "      <td>19</td>\n",
              "      <td>7895469542</td>\n",
              "      <td>**@gitam.in</td>\n",
              "      <td>******</td>\n",
              "    </tr>\n",
              "    <tr>\n",
              "      <th>8</th>\n",
              "      <td>9</td>\n",
              "      <td>Naga Sai</td>\n",
              "      <td>20</td>\n",
              "      <td>8899774455</td>\n",
              "      <td>**@gitam.in</td>\n",
              "      <td>*******</td>\n",
              "    </tr>\n",
              "    <tr>\n",
              "      <th>9</th>\n",
              "      <td>10</td>\n",
              "      <td>Srikanth</td>\n",
              "      <td>19</td>\n",
              "      <td>7788990011</td>\n",
              "      <td>**@gitam.in</td>\n",
              "      <td>********</td>\n",
              "    </tr>\n",
              "  </tbody>\n",
              "</table>\n",
              "</div>"
            ],
            "text/plain": [
              "   sno       Name  Age   Mobile No         Mail    Password\n",
              "0    1     Chaitu   18  8106940122  **@gitam.in  **********\n",
              "1    2    Aravind   19  7654286963  **@gitam.in    ********\n",
              "2    3   Bhagyesh   19  8479658997  **@gitam.in       *****\n",
              "3    4      Pavan   18  8456921775  **@gitam.in     *******\n",
              "4    5  Sai kiran   20  9345865744  **@gitam.in    ********\n",
              "5    6      Kiran   19  7658459658  **@gitam.in    ********\n",
              "6    7      Suraj   18  9548678954  **@gitam.in     *******\n",
              "7    8     Pranav   19  7895469542  **@gitam.in      ******\n",
              "8    9   Naga Sai   20  8899774455  **@gitam.in     *******\n",
              "9   10   Srikanth   19  7788990011  **@gitam.in    ********"
            ]
          },
          "execution_count": 6,
          "metadata": {},
          "output_type": "execute_result"
        }
      ],
      "source": [
        "import pandas as pd\n",
        "a = pd.read_csv('C:\\\\Users\\ckund\\OneDrive\\Desktop\\Data.csv')\n",
        "a[:10]"
      ]
    },
    {
      "cell_type": "code",
      "execution_count": null,
      "id": "37b64d9a",
      "metadata": {
        "id": "37b64d9a",
        "outputId": "8d966f86-5d8c-4cdd-f016-b3f9937babf1"
      },
      "outputs": [
        {
          "data": {
            "text/html": [
              "<div>\n",
              "<style scoped>\n",
              "    .dataframe tbody tr th:only-of-type {\n",
              "        vertical-align: middle;\n",
              "    }\n",
              "\n",
              "    .dataframe tbody tr th {\n",
              "        vertical-align: top;\n",
              "    }\n",
              "\n",
              "    .dataframe thead th {\n",
              "        text-align: right;\n",
              "    }\n",
              "</style>\n",
              "<table border=\"1\" class=\"dataframe\">\n",
              "  <thead>\n",
              "    <tr style=\"text-align: right;\">\n",
              "      <th></th>\n",
              "      <th>Age</th>\n",
              "    </tr>\n",
              "  </thead>\n",
              "  <tbody>\n",
              "    <tr>\n",
              "      <th>sum</th>\n",
              "      <td>401.000000</td>\n",
              "    </tr>\n",
              "    <tr>\n",
              "      <th>average</th>\n",
              "      <td>19.095238</td>\n",
              "    </tr>\n",
              "  </tbody>\n",
              "</table>\n",
              "</div>"
            ],
            "text/plain": [
              "                Age\n",
              "sum      401.000000\n",
              "average   19.095238"
            ]
          },
          "execution_count": 9,
          "metadata": {},
          "output_type": "execute_result"
        }
      ],
      "source": [
        "import pandas as pd\n",
        "a = pd.read_csv('C:\\\\Users\\ckund\\OneDrive\\Desktop\\Data.csv')\n",
        "a[:10]\n",
        "a.aggregate({'Age':['sum','average']})"
      ]
    },
    {
      "cell_type": "code",
      "execution_count": null,
      "id": "39a6a333",
      "metadata": {
        "id": "39a6a333",
        "outputId": "a5a6a454-a2bf-48bf-c205-6926e1c8cc97"
      },
      "outputs": [
        {
          "data": {
            "text/html": [
              "<div>\n",
              "<style scoped>\n",
              "    .dataframe tbody tr th:only-of-type {\n",
              "        vertical-align: middle;\n",
              "    }\n",
              "\n",
              "    .dataframe tbody tr th {\n",
              "        vertical-align: top;\n",
              "    }\n",
              "\n",
              "    .dataframe thead th {\n",
              "        text-align: right;\n",
              "    }\n",
              "</style>\n",
              "<table border=\"1\" class=\"dataframe\">\n",
              "  <thead>\n",
              "    <tr style=\"text-align: right;\">\n",
              "      <th></th>\n",
              "      <th>Mobile No</th>\n",
              "    </tr>\n",
              "  </thead>\n",
              "  <tbody>\n",
              "    <tr>\n",
              "      <th>sum</th>\n",
              "      <td>1.768528e+11</td>\n",
              "    </tr>\n",
              "    <tr>\n",
              "      <th>average</th>\n",
              "      <td>8.421561e+09</td>\n",
              "    </tr>\n",
              "  </tbody>\n",
              "</table>\n",
              "</div>"
            ],
            "text/plain": [
              "            Mobile No\n",
              "sum      1.768528e+11\n",
              "average  8.421561e+09"
            ]
          },
          "execution_count": 10,
          "metadata": {},
          "output_type": "execute_result"
        }
      ],
      "source": [
        "import pandas as pd\n",
        "a = pd.read_csv('C:\\\\Users\\ckund\\OneDrive\\Desktop\\Data.csv')\n",
        "a[:10]\n",
        "a.aggregate({'Mobile No':['sum','average']})"
      ]
    },
    {
      "cell_type": "code",
      "execution_count": null,
      "id": "835fc136",
      "metadata": {
        "id": "835fc136",
        "outputId": "72fcc42e-14ad-497c-9a85-15ff84f3a763"
      },
      "outputs": [
        {
          "name": "stdout",
          "output_type": "stream",
          "text": [
            "<class 'pandas.core.groupby.generic.DataFrameGroupBy'>\n",
            "                           0  \\\n",
            "0      (7654286963, Aravind)   \n",
            "1        (7658459658, Kiran)   \n",
            "2     (7788990011, Srikanth)   \n",
            "3         (7849569314, Yash)   \n",
            "4      (7854695502, Karthik)   \n",
            "5        (7858995995, Sunil)   \n",
            "6        (7889468125, Viswa)   \n",
            "7        (7894561256, Bhanu)   \n",
            "8       (7895469542, Pranav)   \n",
            "9       (7895525559, Nithin)   \n",
            "10  (7899546895, Karthikeya)   \n",
            "11      (8106940122, Chaitu)   \n",
            "12       (8456921775, Pavan)   \n",
            "13    (8479658997, Bhagyesh)   \n",
            "14     (8546297615, Dhanush)   \n",
            "15    (8899774455, Naga Sai)   \n",
            "16   (9345865744, Sai kiran)   \n",
            "17       (9548678954, Suraj)   \n",
            "18      (9554864815, Harsha)   \n",
            "19  (9785432158, Bharathwaj)   \n",
            "20       (9988776655, Subbu)   \n",
            "\n",
            "                                                    1  \n",
            "0      sno     Name  Age   Mobile No         Mail ...  \n",
            "1      sno   Name  Age   Mobile No         Mail  P...  \n",
            "2      sno      Name  Age   Mobile No         Mail...  \n",
            "3       sno  Name  Age   Mobile No         Mail  P...  \n",
            "4       sno     Name  Age   Mobile No         Mail...  \n",
            "5       sno   Name  Age   Mobile No         Mail P...  \n",
            "6       sno   Name  Age   Mobile No         Mail  ...  \n",
            "7       sno   Name  Age   Mobile No         Mail  ...  \n",
            "8      sno    Name  Age   Mobile No         Mail P...  \n",
            "9       sno    Name  Age   Mobile No         Mail ...  \n",
            "10      sno        Name  Age   Mobile No         M...  \n",
            "11     sno    Name  Age   Mobile No         Mail  ...  \n",
            "12     sno   Name  Age   Mobile No         Mail Pa...  \n",
            "13     sno      Name  Age   Mobile No         Mail...  \n",
            "14      sno     Name  Age   Mobile No         Mail...  \n",
            "15     sno      Name  Age   Mobile No         Mail...  \n",
            "16     sno       Name  Age   Mobile No         Mai...  \n",
            "17     sno   Name  Age   Mobile No         Mail Pa...  \n",
            "18      sno    Name  Age   Mobile No         Mail ...  \n",
            "19      sno        Name  Age   Mobile No         M...  \n",
            "20      sno   Name  Age   Mobile No         Mail  ...  \n"
          ]
        }
      ],
      "source": [
        "import pandas as vk\n",
        "a = a.groupby(['Mobile No','Name'])\n",
        "print(type(a))\n",
        "print(pd.DataFrame(a))"
      ]
    },
    {
      "cell_type": "code",
      "execution_count": null,
      "id": "b4424e23",
      "metadata": {
        "id": "b4424e23",
        "outputId": "27ee1df1-853b-4fae-fd77-297051d745d9"
      },
      "outputs": [
        {
          "name": "stdout",
          "output_type": "stream",
          "text": [
            "Chaitanya Prasad\n"
          ]
        }
      ],
      "source": [
        "f=open(\"C:\\\\Users\\ckund\\OneDrive\\Desktop\\data.txt\", \"r\")\n",
        "print(f.read())"
      ]
    },
    {
      "cell_type": "code",
      "execution_count": null,
      "id": "06b52286",
      "metadata": {
        "id": "06b52286",
        "outputId": "677dd0a0-bd47-4e74-e665-8b166d33a8a0"
      },
      "outputs": [
        {
          "name": "stdout",
          "output_type": "stream",
          "text": [
            "Cha\n"
          ]
        }
      ],
      "source": [
        "f=open(\"C:\\\\Users\\ckund\\OneDrive\\Desktop\\data.txt\", \"r\")\n",
        "print(f.read(3))"
      ]
    },
    {
      "cell_type": "code",
      "execution_count": null,
      "id": "5ee3326a",
      "metadata": {
        "id": "5ee3326a",
        "outputId": "c59069f1-4182-480d-ea80-ee582cae3642"
      },
      "outputs": [
        {
          "name": "stdout",
          "output_type": "stream",
          "text": [
            "Chaitanya Prasad\n"
          ]
        }
      ],
      "source": [
        "f=open(\"C:\\\\Users\\ckund\\OneDrive\\Desktop\\data.txt\", \"r\")\n",
        "print(f.readline())"
      ]
    },
    {
      "cell_type": "code",
      "execution_count": null,
      "id": "762791b9",
      "metadata": {
        "id": "762791b9",
        "outputId": "6df54bb7-b4a6-46b8-c85a-ddee6f1b2f9e"
      },
      "outputs": [
        {
          "name": "stdout",
          "output_type": "stream",
          "text": [
            "13\n",
            "I am in Btech\n"
          ]
        }
      ],
      "source": [
        "f=open(\"C:\\\\Users\\ckund\\OneDrive\\Desktop\\data.txt\", \"w\")\n",
        "print(f.write(\"I am in Btech\"))\n",
        "f.close()\n",
        "f = open(\"C:\\\\Users\\ckund\\OneDrive\\Desktop\\data.txt\", \"r\")\n",
        "print(f.read())"
      ]
    },
    {
      "cell_type": "code",
      "execution_count": null,
      "id": "77d2b1db",
      "metadata": {
        "id": "77d2b1db",
        "outputId": "5085569a-075a-4631-c49d-0e335ad3462d"
      },
      "outputs": [
        {
          "name": "stdout",
          "output_type": "stream",
          "text": [
            "HelloChaituThisisChaituThisisChaituThisisChaituThisisChaitu\n",
            "59\n"
          ]
        }
      ],
      "source": [
        "f = open(\"C:\\\\Users\\ckund\\OneDrive\\Desktop\\chaitu.txt\",\"r\")\n",
        "df=f.read().replace(\" \",\"\")\n",
        "print(df)\n",
        "print(len(df))"
      ]
    },
    {
      "cell_type": "code",
      "execution_count": null,
      "id": "95851287",
      "metadata": {
        "id": "95851287",
        "outputId": "470025d9-3323-45e1-ec2b-32cb1a4444d4"
      },
      "outputs": [
        {
          "name": "stdout",
          "output_type": "stream",
          "text": [
            "Hello ChaituThis is ChaituThis is ChaituThis is ChaituThis is Chaitu\n",
            "68\n"
          ]
        }
      ],
      "source": [
        "f = open(\"C:\\\\Users\\ckund\\OneDrive\\Desktop\\chaitu.txt\",\"r\")\n",
        "df=f.read()\n",
        "print(df)\n",
        "print(len(df))"
      ]
    },
    {
      "cell_type": "code",
      "execution_count": null,
      "id": "7cb2d3af",
      "metadata": {
        "id": "7cb2d3af",
        "outputId": "acd9b868-807e-4b22-8b69-0b29c90b190f"
      },
      "outputs": [
        {
          "name": "stdout",
          "output_type": "stream",
          "text": [
            "Hello ChaituThis is ChaituThis is ChaituThis is ChaituThis is ChaituThis is Chaitu\n",
            "82\n"
          ]
        }
      ],
      "source": [
        "f = open(\"C:\\\\Users\\ckund\\OneDrive\\Desktop\\chaitu.txt\",\"a\")\n",
        "f.write(\"This is Chaitu\")\n",
        "f.close()\n",
        "f = open(\"C:\\\\Users\\ckund\\OneDrive\\Desktop\\chaitu.txt\",\"r\")\n",
        "df = f.read()\n",
        "print(df)\n",
        "print(len(df))"
      ]
    },
    {
      "cell_type": "code",
      "execution_count": null,
      "id": "dd681233",
      "metadata": {
        "id": "dd681233"
      },
      "outputs": [],
      "source": [
        ""
      ]
    }
  ],
  "metadata": {
    "kernelspec": {
      "display_name": "Python 3 (ipykernel)",
      "language": "python",
      "name": "python3"
    },
    "language_info": {
      "codemirror_mode": {
        "name": "ipython",
        "version": 3
      },
      "file_extension": ".py",
      "mimetype": "text/x-python",
      "name": "python",
      "nbconvert_exporter": "python",
      "pygments_lexer": "ipython3",
      "version": "3.9.7"
    },
    "colab": {
      "name": "Untitled2 (4).ipynb",
      "provenance": [],
      "include_colab_link": true
    }
  },
  "nbformat": 4,
  "nbformat_minor": 5
}